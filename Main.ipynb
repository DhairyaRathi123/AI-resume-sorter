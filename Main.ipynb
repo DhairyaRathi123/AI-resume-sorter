{
 "cells": [
  {
   "cell_type": "markdown",
   "id": "e5d3166b-287a-40e2-b922-28a38dc771ba",
   "metadata": {
    "tags": []
   },
   "source": [
    "### Resume Ranking System: A HR assistant program"
   ]
  },
  {
   "cell_type": "markdown",
   "id": "98bea96a-8b4d-44b1-bac0-1950414bb487",
   "metadata": {
    "tags": []
   },
   "source": [
    "### Importing Modules"
   ]
  },
  {
   "cell_type": "code",
   "execution_count": 1,
   "id": "2baaaefc-951f-45f9-9e04-14e13c8d2b09",
   "metadata": {
    "tags": []
   },
   "outputs": [],
   "source": [
    "import pandas as pd\n",
    "import numpy as np\n",
    "import nltk\n",
    "from nltk.corpus import stopwords\n",
    "import requests\n",
    "import json\n",
    "\n"
   ]
  },
  {
   "cell_type": "markdown",
   "id": "d983d1f2-e8a7-43b3-938a-9342e15a82a2",
   "metadata": {},
   "source": [
    "### reading resumes.csv file"
   ]
  },
  {
   "cell_type": "code",
   "execution_count": 2,
   "id": "3eddcca7-e55f-4ab5-9fd3-febe60c60d04",
   "metadata": {
    "tags": []
   },
   "outputs": [],
   "source": [
    "data = pd.read_csv('resumes.csv')"
   ]
  },
  {
   "cell_type": "code",
   "execution_count": 3,
   "id": "7fcb9856-1358-491e-b1d2-6aa8b5157f03",
   "metadata": {
    "tags": []
   },
   "outputs": [],
   "source": [
    "experience_weight = 0.4\n",
    "university_weight = 0.3\n",
    "skills_weight = 0.3\n",
    "Git_weight = 0.4"
   ]
  },
  {
   "cell_type": "code",
   "execution_count": 4,
   "id": "6e282b28-297b-40d1-9af9-f5f1f7b81660",
   "metadata": {
    "tags": []
   },
   "outputs": [],
   "source": [
    "data['experience'] = data['experience'].apply(lambda x: x.lower().replace('.', ''))\n",
    "data['university'] = data['university'].apply(lambda x: x.lower().replace(',', ''))\n",
    "data['Github_id'] = data['Github_id'].apply(lambda x: x.lower().replace(',', ''))\n",
    "data['skills'] = data['skills'].apply(lambda x: x.lower().replace(',',''))\n",
    "\n"
   ]
  },
  {
   "cell_type": "code",
   "execution_count": 5,
   "id": "14c4d30c-ba6e-4c3c-a0a0-3c31019cc7ae",
   "metadata": {
    "tags": []
   },
   "outputs": [],
   "source": [
    "\n",
    "def judge_coder(github_id):\n",
    "    # Get the coder's contributions from GitHub\n",
    "    url = f\"https://api.github.com/users/{github_id}/repos\"\n",
    "    response = requests.get(url)\n",
    "\n",
    "    if response.status_code == 200:\n",
    "        # Parse the JSON data\n",
    "        data = json.loads(response.text)\n",
    "\n",
    "        # Calculate the number of contributions\n",
    "        num_contributions = 0\n",
    "        for repo in data:\n",
    "            num_contributions += repo[\"stargazers_count\"] + repo[\"forks\"]\n",
    "\n",
    "        # Calculate the quality of contributions\n",
    "        quality_score = 0\n",
    "        for repo in data:\n",
    "            if repo[\"stargazers_count\"] > 100:\n",
    "                quality_score += 1\n",
    "            if repo[\"forks\"] > 50:\n",
    "                quality_score += 1\n",
    "\n",
    "        # Calculate the variety of contributions\n",
    "        variety_score = 0\n",
    "        for repo in data:\n",
    "            if repo[\"language\"] in [\"Python\", \"JavaScript\", \"Java\"]:\n",
    "                variety_score += 1\n",
    "\n",
    "        # Calculate the experience of the coder\n",
    "        experience = 0\n",
    "        for repo in data:\n",
    "            if repo[\"created_at\"] < \"2019-01-01\":\n",
    "                experience += 1\n",
    "\n",
    "        # Calculate the communication skills of the coder\n",
    "        communication_score = 0\n",
    "        for repo in data:\n",
    "            if repo[\"open_issues_count\"] < 10:\n",
    "                communication_score += 1\n",
    "            \n",
    "\n",
    "        # Calculate the overall score of the coder\n",
    "        overall_score = (num_contributions + quality_score + variety_score + experience + communication_score) / 5\n",
    "\n",
    "\n",
    "        # Print the overall score of the coder\n",
    "        return overall_score\n",
    "    else:\n",
    "        print(f\"Error: {response.status_code}\")\n",
    "        \n",
    "Git_scores = data['Github_id'].apply(lambda x: judge_coder(x))\n",
    "\n",
    "\n",
    "\n"
   ]
  },
  {
   "cell_type": "code",
   "execution_count": 6,
   "id": "bd97a756-06fc-47a1-bf23-bc203f5bec12",
   "metadata": {
    "tags": []
   },
   "outputs": [],
   "source": [
    "def calculate_experience_score(experience):\n",
    "    years_of_experience = int(experience.split()[0])\n",
    "    if years_of_experience <= 2:\n",
    "        score = 2\n",
    "    elif years_of_experience <= 5:\n",
    "        score = 5\n",
    "    elif years_of_experience <= 10:\n",
    "        score = 10\n",
    "    else:\n",
    "        score = 0.8\n",
    "    return score\n",
    "\n",
    "experience_scores = data['experience'].apply(lambda x: calculate_experience_score(x))\n"
   ]
  },
  {
   "cell_type": "code",
   "execution_count": 7,
   "id": "3bc81f1a-ef23-4a44-b517-35420efbb863",
   "metadata": {
    "tags": []
   },
   "outputs": [],
   "source": [
    "def calculate_university_score(university):\n",
    "    # Assign scores based on university reputation\n",
    "    if university in ['Stanford University', 'MIT', 'Harvard University']:\n",
    "        university_score = 3\n",
    "    elif university in ['University of California, Berkeley', 'University of Cambridge', 'Princeton University']:\n",
    "        university_score = 2\n",
    "    else:\n",
    "        university_score = 1\n",
    "\n",
    "    return university_score\n",
    "\n",
    "university_scores = data['university'].apply(lambda x: calculate_university_score(x))\n"
   ]
  },
  {
   "cell_type": "code",
   "execution_count": 8,
   "id": "bc029e4a-fe72-47e0-a6c6-cfc8aa106dbf",
   "metadata": {
    "tags": []
   },
   "outputs": [],
   "source": [
    "def calculate_skills_score(skills):\n",
    "    # Define a set of relevant skills\n",
    "    relevant_skills = {'python', 'java', 'c++', 'sql', 'javascript', 'html', 'css'}\n",
    "\n",
    "    # Calculate the intersection between the applicant's skills and the relevant skills\n",
    "    intersection = set(skills).intersection(relevant_skills)\n",
    "\n",
    "    # Calculate the skills score\n",
    "    skills_score = len(intersection) / len(relevant_skills)\n",
    "\n",
    "    return skills_score\n",
    "\n",
    "skills_scores = data['skills'].apply(lambda x: calculate_skills_score(x))"
   ]
  },
  {
   "cell_type": "code",
   "execution_count": null,
   "id": "55bd5a20-3723-4ab6-aeae-0d5ae2fd156c",
   "metadata": {},
   "outputs": [],
   "source": []
  },
  {
   "cell_type": "code",
   "execution_count": 9,
   "id": "cede525d-8529-4a08-b9d4-1917b772bdd5",
   "metadata": {
    "tags": []
   },
   "outputs": [
    {
     "data": {
      "text/html": [
       "<div>\n",
       "<style scoped>\n",
       "    .dataframe tbody tr th:only-of-type {\n",
       "        vertical-align: middle;\n",
       "    }\n",
       "\n",
       "    .dataframe tbody tr th {\n",
       "        vertical-align: top;\n",
       "    }\n",
       "\n",
       "    .dataframe thead th {\n",
       "        text-align: right;\n",
       "    }\n",
       "</style>\n",
       "<table border=\"1\" class=\"dataframe\">\n",
       "  <thead>\n",
       "    <tr style=\"text-align: right;\">\n",
       "      <th></th>\n",
       "      <th>name</th>\n",
       "      <th>experience</th>\n",
       "      <th>university</th>\n",
       "      <th>skills</th>\n",
       "      <th>Github_id</th>\n",
       "      <th>overall_score</th>\n",
       "    </tr>\n",
       "  </thead>\n",
       "  <tbody>\n",
       "    <tr>\n",
       "      <th>1</th>\n",
       "      <td>OmkarPathak</td>\n",
       "      <td>2 years</td>\n",
       "      <td>mit</td>\n",
       "      <td>python r sql</td>\n",
       "      <td>omkarpathak</td>\n",
       "      <td>162.54</td>\n",
       "    </tr>\n",
       "    <tr>\n",
       "      <th>0</th>\n",
       "      <td>Travis Oliphant</td>\n",
       "      <td>5 years</td>\n",
       "      <td>stanford university</td>\n",
       "      <td>python java c++</td>\n",
       "      <td>teoliphant</td>\n",
       "      <td>21.50</td>\n",
       "    </tr>\n",
       "    <tr>\n",
       "      <th>2</th>\n",
       "      <td>Shubham Rajput</td>\n",
       "      <td>1 year</td>\n",
       "      <td>university of california berkeley</td>\n",
       "      <td>java javascript html/css</td>\n",
       "      <td>shubhamrajput768</td>\n",
       "      <td>1.26</td>\n",
       "    </tr>\n",
       "  </tbody>\n",
       "</table>\n",
       "</div>"
      ],
      "text/plain": [
       "              name experience                         university  \\\n",
       "1      OmkarPathak    2 years                                mit   \n",
       "0  Travis Oliphant    5 years                stanford university   \n",
       "2   Shubham Rajput     1 year  university of california berkeley   \n",
       "\n",
       "                     skills         Github_id  overall_score  \n",
       "1              python r sql       omkarpathak         162.54  \n",
       "0           python java c++        teoliphant          21.50  \n",
       "2  java javascript html/css  shubhamrajput768           1.26  "
      ]
     },
     "execution_count": 9,
     "metadata": {},
     "output_type": "execute_result"
    }
   ],
   "source": [
    "\n",
    "data['overall_score'] = (\n",
    "    experience_weight * experience_scores +\n",
    "    university_weight * university_scores +\n",
    "    skills_weight * skills_scores +\n",
    "    Git_weight * Git_scores\n",
    ")\n",
    "\n",
    "# Rank resumes\n",
    "ranked_resumes = data.sort_values(by='overall_score', ascending=False)\n",
    "\n",
    "ranked_resumes\n"
   ]
  },
  {
   "cell_type": "code",
   "execution_count": null,
   "id": "4a12e054-73d1-4f8d-9e48-c6ec403382b7",
   "metadata": {},
   "outputs": [],
   "source": []
  }
 ],
 "metadata": {
  "kernelspec": {
   "display_name": "Python 3 (ipykernel)",
   "language": "python",
   "name": "python3"
  },
  "language_info": {
   "codemirror_mode": {
    "name": "ipython",
    "version": 3
   },
   "file_extension": ".py",
   "mimetype": "text/x-python",
   "name": "python",
   "nbconvert_exporter": "python",
   "pygments_lexer": "ipython3",
   "version": "3.11.5"
  }
 },
 "nbformat": 4,
 "nbformat_minor": 5
}
